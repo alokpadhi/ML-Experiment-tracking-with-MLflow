{
  "nbformat": 4,
  "nbformat_minor": 0,
  "metadata": {
    "colab": {
      "name": "optuna_example.ipynb",
      "provenance": []
    },
    "kernelspec": {
      "name": "python3",
      "display_name": "Python 3"
    },
    "language_info": {
      "name": "python"
    }
  },
  "cells": [
    {
      "cell_type": "code",
      "metadata": {
        "colab": {
          "base_uri": "https://localhost:8080/"
        },
        "id": "vnJHWTqWiAzM",
        "outputId": "b61abaa1-181a-47d5-9546-d1b05c27ac5e"
      },
      "source": [
        "!pip install optuna"
      ],
      "execution_count": null,
      "outputs": [
        {
          "output_type": "stream",
          "text": [
            "Collecting optuna\n",
            "  Downloading optuna-2.9.1-py3-none-any.whl (302 kB)\n",
            "\u001b[K     |████████████████████████████████| 302 kB 9.1 MB/s \n",
            "\u001b[?25hRequirement already satisfied: sqlalchemy>=1.1.0 in /usr/local/lib/python3.7/dist-packages (from optuna) (1.4.22)\n",
            "Requirement already satisfied: PyYAML in /usr/local/lib/python3.7/dist-packages (from optuna) (3.13)\n",
            "Collecting alembic\n",
            "  Downloading alembic-1.6.5-py2.py3-none-any.whl (164 kB)\n",
            "\u001b[K     |████████████████████████████████| 164 kB 57.2 MB/s \n",
            "\u001b[?25hRequirement already satisfied: scipy!=1.4.0 in /usr/local/lib/python3.7/dist-packages (from optuna) (1.4.1)\n",
            "Requirement already satisfied: tqdm in /usr/local/lib/python3.7/dist-packages (from optuna) (4.62.0)\n",
            "Requirement already satisfied: numpy in /usr/local/lib/python3.7/dist-packages (from optuna) (1.19.5)\n",
            "Collecting cliff\n",
            "  Downloading cliff-3.9.0-py3-none-any.whl (80 kB)\n",
            "\u001b[K     |████████████████████████████████| 80 kB 7.7 MB/s \n",
            "\u001b[?25hCollecting colorlog\n",
            "  Downloading colorlog-6.4.1-py2.py3-none-any.whl (11 kB)\n",
            "Requirement already satisfied: packaging>=20.0 in /usr/local/lib/python3.7/dist-packages (from optuna) (21.0)\n",
            "Collecting cmaes>=0.8.2\n",
            "  Downloading cmaes-0.8.2-py3-none-any.whl (15 kB)\n",
            "Requirement already satisfied: pyparsing>=2.0.2 in /usr/local/lib/python3.7/dist-packages (from packaging>=20.0->optuna) (2.4.7)\n",
            "Requirement already satisfied: greenlet!=0.4.17 in /usr/local/lib/python3.7/dist-packages (from sqlalchemy>=1.1.0->optuna) (1.1.1)\n",
            "Requirement already satisfied: importlib-metadata in /usr/local/lib/python3.7/dist-packages (from sqlalchemy>=1.1.0->optuna) (4.6.4)\n",
            "Collecting Mako\n",
            "  Downloading Mako-1.1.5-py2.py3-none-any.whl (75 kB)\n",
            "\u001b[K     |████████████████████████████████| 75 kB 3.7 MB/s \n",
            "\u001b[?25hRequirement already satisfied: python-dateutil in /usr/local/lib/python3.7/dist-packages (from alembic->optuna) (2.8.2)\n",
            "Collecting python-editor>=0.3\n",
            "  Downloading python_editor-1.0.4-py3-none-any.whl (4.9 kB)\n",
            "Collecting autopage>=0.4.0\n",
            "  Downloading autopage-0.4.0-py3-none-any.whl (20 kB)\n",
            "Collecting stevedore>=2.0.1\n",
            "  Downloading stevedore-3.4.0-py3-none-any.whl (49 kB)\n",
            "\u001b[K     |████████████████████████████████| 49 kB 5.0 MB/s \n",
            "\u001b[?25hCollecting cmd2>=1.0.0\n",
            "  Downloading cmd2-2.1.2-py3-none-any.whl (141 kB)\n",
            "\u001b[K     |████████████████████████████████| 141 kB 62.1 MB/s \n",
            "\u001b[?25hRequirement already satisfied: PrettyTable>=0.7.2 in /usr/local/lib/python3.7/dist-packages (from cliff->optuna) (2.1.0)\n",
            "Collecting pbr!=2.1.0,>=2.0.0\n",
            "  Downloading pbr-5.6.0-py2.py3-none-any.whl (111 kB)\n",
            "\u001b[K     |████████████████████████████████| 111 kB 58.3 MB/s \n",
            "\u001b[?25hRequirement already satisfied: wcwidth>=0.1.7 in /usr/local/lib/python3.7/dist-packages (from cmd2>=1.0.0->cliff->optuna) (0.2.5)\n",
            "Requirement already satisfied: attrs>=16.3.0 in /usr/local/lib/python3.7/dist-packages (from cmd2>=1.0.0->cliff->optuna) (21.2.0)\n",
            "Requirement already satisfied: typing-extensions in /usr/local/lib/python3.7/dist-packages (from cmd2>=1.0.0->cliff->optuna) (3.7.4.3)\n",
            "Collecting colorama>=0.3.7\n",
            "  Downloading colorama-0.4.4-py2.py3-none-any.whl (16 kB)\n",
            "Collecting pyperclip>=1.6\n",
            "  Downloading pyperclip-1.8.2.tar.gz (20 kB)\n",
            "Requirement already satisfied: zipp>=0.5 in /usr/local/lib/python3.7/dist-packages (from importlib-metadata->sqlalchemy>=1.1.0->optuna) (3.5.0)\n",
            "Requirement already satisfied: MarkupSafe>=0.9.2 in /usr/local/lib/python3.7/dist-packages (from Mako->alembic->optuna) (2.0.1)\n",
            "Requirement already satisfied: six>=1.5 in /usr/local/lib/python3.7/dist-packages (from python-dateutil->alembic->optuna) (1.15.0)\n",
            "Building wheels for collected packages: pyperclip\n",
            "  Building wheel for pyperclip (setup.py) ... \u001b[?25l\u001b[?25hdone\n",
            "  Created wheel for pyperclip: filename=pyperclip-1.8.2-py3-none-any.whl size=11136 sha256=f4603bd52b18313d7ac9da4c5b68f6d21dccc8b1f74462eca2d8234435961e7f\n",
            "  Stored in directory: /root/.cache/pip/wheels/9f/18/84/8f69f8b08169c7bae2dde6bd7daf0c19fca8c8e500ee620a28\n",
            "Successfully built pyperclip\n",
            "Installing collected packages: pyperclip, pbr, colorama, stevedore, python-editor, Mako, cmd2, autopage, colorlog, cmaes, cliff, alembic, optuna\n",
            "Successfully installed Mako-1.1.5 alembic-1.6.5 autopage-0.4.0 cliff-3.9.0 cmaes-0.8.2 cmd2-2.1.2 colorama-0.4.4 colorlog-6.4.1 optuna-2.9.1 pbr-5.6.0 pyperclip-1.8.2 python-editor-1.0.4 stevedore-3.4.0\n"
          ],
          "name": "stdout"
        }
      ]
    },
    {
      "cell_type": "code",
      "metadata": {
        "id": "__RxJrpoiLzr"
      },
      "source": [
        "import os\n",
        "\n",
        "import optuna\n",
        "from optuna.trial import TrialState\n",
        "import torch\n",
        "import torch.nn as nn\n",
        "import torch.nn.functional as F\n",
        "import torch.optim as optim\n",
        "import torch.utils.data\n",
        "from torchvision import datasets, transforms"
      ],
      "execution_count": null,
      "outputs": []
    },
    {
      "cell_type": "code",
      "metadata": {
        "id": "IpLQx_5KilU0"
      },
      "source": [
        "DEVICE = torch.device(\"cpu\")\n",
        "BATCH_SIZE = 128\n",
        "CLASSES = 10\n",
        "DIR = os.getcwd()\n",
        "EPOCHS = 10\n",
        "LOG_INTERVAL = 10\n",
        "N_TRAIN_EXAMPLES = BATCH_SIZE * 30\n",
        "N_VALID_EXAMPLES = BATCH_SIZE * 10"
      ],
      "execution_count": null,
      "outputs": []
    },
    {
      "cell_type": "code",
      "metadata": {
        "id": "ljzG2ipZi4-3"
      },
      "source": [
        "def define_model(trial):\n",
        "    n_layers = trial.suggest_int(\"n_layers\", 1, 3)\n",
        "    layers = []\n",
        "\n",
        "    in_features = 28 * 28\n",
        "    for i in range(n_layers):\n",
        "        out_features = trial.suggest_int(\"n_units_1{}\".format(i), 4, 128)\n",
        "        layers.append(nn.Linear(in_features, out_features))\n",
        "        layers.append(nn.ReLU())\n",
        "        p = trial.suggest_float(\"dropout_1{}\".format(i), 0.2, 0.5)\n",
        "        layers.append(nn.Dropout(p))\n",
        "\n",
        "        in_features = out_features\n",
        "\n",
        "    layers.append(nn.Linear(in_features, CLASSES))\n",
        "    layers.append(nn.LogSoftmax(dim=1))\n",
        "\n",
        "    return nn.Sequential(*layers)"
      ],
      "execution_count": null,
      "outputs": []
    },
    {
      "cell_type": "code",
      "metadata": {
        "id": "to1yvJX8kbMT"
      },
      "source": [
        "def get_mnist():\n",
        "    train_loader = torch.utils.data.DataLoader(\n",
        "        datasets.FashionMNIST(DIR, train=True, download=True, transform=transforms.ToTensor()),\n",
        "        batch_size=BATCH_SIZE,\n",
        "        shuffle=True,\n",
        "    )\n",
        "    valid_loader = torch.utils.data.DataLoader(\n",
        "        datasets.FashionMNIST(DIR, train=False, transform=transforms.ToTensor()),\n",
        "        batch_size=BATCH_SIZE,\n",
        "        shuffle=True,\n",
        "    )\n",
        "\n",
        "    return train_loader, valid_loader"
      ],
      "execution_count": null,
      "outputs": []
    },
    {
      "cell_type": "code",
      "metadata": {
        "id": "veDIhUvvkfYH"
      },
      "source": [
        "def objective(trial):\n",
        "    model = define_model(trial).to(DEVICE)\n",
        "\n",
        "    optimizer_name = trial.suggest_categorical(\"optimizer\", [\"SGD\", \"Adam\", \"RMSprop\"])\n",
        "    lr = trial.suggest_float(\"lr\", 1e-5, 1e-1, log=True)\n",
        "    optimizer = getattr(optim, optimizer_name)(model.parameters(), lr=lr)\n",
        "\n",
        "    train_loader, valid_loader = get_mnist()\n",
        "\n",
        "    for epoch in range(EPOCHS):\n",
        "        model.train()\n",
        "        for batch_idx, (data, target) in enumerate(train_loader):\n",
        "            if batch_idx * BATCH_SIZE >= N_TRAIN_EXAMPLES:\n",
        "                break\n",
        "\n",
        "            data, target = data.view(data.size(0), -1).to(DEVICE), target.to(DEVICE)\n",
        "\n",
        "            optimizer.zero_grad()\n",
        "            output = model(data)\n",
        "            loss = F.nll_loss(output, target)\n",
        "            loss.backward()\n",
        "            optimizer.step()\n",
        "\n",
        "        model.eval()\n",
        "        correct = 0\n",
        "        for batch_idx, (data, target) in enumerate(valid_loader):\n",
        "            if batch_idx * BATCH_SIZE >= N_VALID_EXAMPLES:\n",
        "                break\n",
        "            \n",
        "            data, target = data.view(data.size(0), -1).to(DEVICE), target.to(DEVICE)\n",
        "            output = model(data)\n",
        "            pred = output.argmax(dim=1, keepdim=True)\n",
        "            correct += pred.eq(target.view_as(pred)).sum().item()\n",
        "\n",
        "        accuracy = correct / min(len(valid_loader.dataset), N_VALID_EXAMPLES)\n",
        "\n",
        "        trial.report(accuracy, epoch)\n",
        "\n",
        "        if trial.should_prune():\n",
        "            raise optuna.exceptions.TrialPruned\n",
        "\n",
        "        return accuracy"
      ],
      "execution_count": null,
      "outputs": []
    },
    {
      "cell_type": "code",
      "metadata": {
        "colab": {
          "base_uri": "https://localhost:8080/"
        },
        "id": "sOQAbft_mvSA",
        "outputId": "6d445848-b7d3-46d9-89f0-600ef22f3d12"
      },
      "source": [
        "study = optuna.create_study(direction=\"maximize\")\n",
        "study.optimize(objective, n_trials=100, timeout=500)\n",
        "\n",
        "pruned_trials = study.get_trials(deepcopy=False, states=[TrialState.PRUNED])\n",
        "completed_trials = study.get_trials(deepcopy=False, states=[TrialState.COMPLETE])\n",
        "\n",
        "print(f\"Number of trials: {len(study.trials)}\")\n",
        "print(f\"Number of completed trials: {len(pruned_trials)}\")\n",
        "print(f\"Number of pruned trials: {len(completed_trials)}\")\n",
        "\n",
        "best_trial = study.best_trial\n",
        "\n",
        "print(f\"Best Trial Value: {best_trial.value}\")\n",
        "\n",
        "for key, value in best_trial.params.items():\n",
        "    print(f\"{key}: {value}\")"
      ],
      "execution_count": null,
      "outputs": [
        {
          "output_type": "stream",
          "text": [
            "\u001b[32m[I 2021-08-28 12:02:39,459]\u001b[0m A new study created in memory with name: no-name-3b02c5cb-b605-474b-8755-71714dc776a1\u001b[0m\n",
            "\u001b[32m[I 2021-08-28 12:02:40,085]\u001b[0m Trial 0 finished with value: 0.09140625 and parameters: {'n_layers': 2, 'n_units_10': 50, 'dropout_10': 0.38464918346439586, 'n_units_11': 76, 'dropout_11': 0.48595369216539297, 'optimizer': 'SGD', 'lr': 0.0025745881412939787}. Best is trial 0 with value: 0.09140625.\u001b[0m\n",
            "\u001b[32m[I 2021-08-28 12:02:40,657]\u001b[0m Trial 1 finished with value: 0.12109375 and parameters: {'n_layers': 3, 'n_units_10': 55, 'dropout_10': 0.2215622909918732, 'n_units_11': 43, 'dropout_11': 0.21282343512927096, 'n_units_12': 18, 'dropout_12': 0.47787240784346763, 'optimizer': 'SGD', 'lr': 0.05312719511656998}. Best is trial 1 with value: 0.12109375.\u001b[0m\n",
            "\u001b[32m[I 2021-08-28 12:02:41,255]\u001b[0m Trial 2 finished with value: 0.0953125 and parameters: {'n_layers': 3, 'n_units_10': 114, 'dropout_10': 0.23220593418509342, 'n_units_11': 127, 'dropout_11': 0.31907193463220984, 'n_units_12': 40, 'dropout_12': 0.3787432824966116, 'optimizer': 'SGD', 'lr': 1.4253416070021902e-05}. Best is trial 1 with value: 0.12109375.\u001b[0m\n",
            "\u001b[32m[I 2021-08-28 12:02:41,848]\u001b[0m Trial 3 finished with value: 0.24375 and parameters: {'n_layers': 3, 'n_units_10': 38, 'dropout_10': 0.20814999088383496, 'n_units_11': 120, 'dropout_11': 0.4332963287237732, 'n_units_12': 93, 'dropout_12': 0.2006230772311144, 'optimizer': 'Adam', 'lr': 4.959499363131178e-05}. Best is trial 3 with value: 0.24375.\u001b[0m\n",
            "\u001b[32m[I 2021-08-28 12:02:42,454]\u001b[0m Trial 4 finished with value: 0.59609375 and parameters: {'n_layers': 3, 'n_units_10': 81, 'dropout_10': 0.3440932666707329, 'n_units_11': 37, 'dropout_11': 0.25140354318629415, 'n_units_12': 116, 'dropout_12': 0.3153270785823985, 'optimizer': 'RMSprop', 'lr': 0.0008289645473455217}. Best is trial 4 with value: 0.59609375.\u001b[0m\n",
            "\u001b[32m[I 2021-08-28 12:02:42,991]\u001b[0m Trial 5 finished with value: 0.1296875 and parameters: {'n_layers': 1, 'n_units_10': 23, 'dropout_10': 0.2900223743537144, 'optimizer': 'Adam', 'lr': 1.2384798443687977e-05}. Best is trial 4 with value: 0.59609375.\u001b[0m\n",
            "\u001b[32m[I 2021-08-28 12:02:43,570]\u001b[0m Trial 6 finished with value: 0.50546875 and parameters: {'n_layers': 1, 'n_units_10': 109, 'dropout_10': 0.4694324520977755, 'optimizer': 'RMSprop', 'lr': 0.06161497160104198}. Best is trial 4 with value: 0.59609375.\u001b[0m\n",
            "\u001b[32m[I 2021-08-28 12:02:44,127]\u001b[0m Trial 7 finished with value: 0.403125 and parameters: {'n_layers': 2, 'n_units_10': 62, 'dropout_10': 0.3279285075285878, 'n_units_11': 86, 'dropout_11': 0.22450028902268923, 'optimizer': 'RMSprop', 'lr': 4.353188557232132e-05}. Best is trial 4 with value: 0.59609375.\u001b[0m\n",
            "\u001b[32m[I 2021-08-28 12:02:44,727]\u001b[0m Trial 8 finished with value: 0.5609375 and parameters: {'n_layers': 1, 'n_units_10': 128, 'dropout_10': 0.3351615443335825, 'optimizer': 'Adam', 'lr': 0.03251776574851003}. Best is trial 4 with value: 0.59609375.\u001b[0m\n",
            "\u001b[32m[I 2021-08-28 12:02:45,250]\u001b[0m Trial 9 finished with value: 0.53671875 and parameters: {'n_layers': 1, 'n_units_10': 16, 'dropout_10': 0.2687697119818517, 'optimizer': 'Adam', 'lr': 0.03901067497618492}. Best is trial 4 with value: 0.59609375.\u001b[0m\n",
            "\u001b[32m[I 2021-08-28 12:02:45,871]\u001b[0m Trial 10 finished with value: 0.50625 and parameters: {'n_layers': 3, 'n_units_10': 88, 'dropout_10': 0.4045704236444203, 'n_units_11': 10, 'dropout_11': 0.31273150274282213, 'n_units_12': 118, 'dropout_12': 0.26370420619456814, 'optimizer': 'RMSprop', 'lr': 0.0006339867330230449}. Best is trial 4 with value: 0.59609375.\u001b[0m\n",
            "\u001b[32m[I 2021-08-28 12:02:46,440]\u001b[0m Trial 11 finished with value: 0.590625 and parameters: {'n_layers': 2, 'n_units_10': 86, 'dropout_10': 0.3429241988491407, 'n_units_11': 31, 'dropout_11': 0.2758186609312038, 'optimizer': 'RMSprop', 'lr': 0.0022258704441204813}. Best is trial 4 with value: 0.59609375.\u001b[0m\n",
            "\u001b[32m[I 2021-08-28 12:02:47,007]\u001b[0m Trial 12 finished with value: 0.625 and parameters: {'n_layers': 2, 'n_units_10': 82, 'dropout_10': 0.39768134469866184, 'n_units_11': 32, 'dropout_11': 0.27792631224253045, 'optimizer': 'RMSprop', 'lr': 0.0014465344059683017}. Best is trial 12 with value: 0.625.\u001b[0m\n",
            "\u001b[32m[I 2021-08-28 12:02:47,587]\u001b[0m Trial 13 finished with value: 0.61484375 and parameters: {'n_layers': 2, 'n_units_10': 83, 'dropout_10': 0.4437548792960647, 'n_units_11': 46, 'dropout_11': 0.26966653173250643, 'optimizer': 'RMSprop', 'lr': 0.0004505627572408247}. Best is trial 12 with value: 0.625.\u001b[0m\n",
            "\u001b[32m[I 2021-08-28 12:02:48,178]\u001b[0m Trial 14 finished with value: 0.62265625 and parameters: {'n_layers': 2, 'n_units_10': 78, 'dropout_10': 0.467783788571305, 'n_units_11': 59, 'dropout_11': 0.3867217782033186, 'optimizer': 'RMSprop', 'lr': 0.0002709641301498001}. Best is trial 12 with value: 0.625.\u001b[0m\n",
            "\u001b[32m[I 2021-08-28 12:02:48,755]\u001b[0m Trial 15 pruned. \u001b[0m\n",
            "\u001b[32m[I 2021-08-28 12:02:49,333]\u001b[0m Trial 16 finished with value: 0.6296875 and parameters: {'n_layers': 2, 'n_units_10': 70, 'dropout_10': 0.4988760979610559, 'n_units_11': 63, 'dropout_11': 0.37195093958984293, 'optimizer': 'RMSprop', 'lr': 0.006100540093451809}. Best is trial 16 with value: 0.6296875.\u001b[0m\n",
            "\u001b[32m[I 2021-08-28 12:02:49,885]\u001b[0m Trial 17 pruned. \u001b[0m\n",
            "\u001b[32m[I 2021-08-28 12:02:50,448]\u001b[0m Trial 18 finished with value: 0.62421875 and parameters: {'n_layers': 1, 'n_units_10': 71, 'dropout_10': 0.3854746831672914, 'optimizer': 'RMSprop', 'lr': 0.007153023248976676}. Best is trial 16 with value: 0.6296875.\u001b[0m\n",
            "\u001b[32m[I 2021-08-28 12:02:51,017]\u001b[0m Trial 19 pruned. \u001b[0m\n",
            "\u001b[32m[I 2021-08-28 12:02:51,575]\u001b[0m Trial 20 pruned. \u001b[0m\n",
            "\u001b[32m[I 2021-08-28 12:02:52,143]\u001b[0m Trial 21 finished with value: 0.72265625 and parameters: {'n_layers': 1, 'n_units_10': 74, 'dropout_10': 0.3786780995847101, 'optimizer': 'RMSprop', 'lr': 0.007864247488857603}. Best is trial 21 with value: 0.72265625.\u001b[0m\n",
            "\u001b[32m[I 2021-08-28 12:02:52,718]\u001b[0m Trial 22 finished with value: 0.68046875 and parameters: {'n_layers': 1, 'n_units_10': 72, 'dropout_10': 0.3749713315825097, 'optimizer': 'RMSprop', 'lr': 0.004842736406041454}. Best is trial 21 with value: 0.72265625.\u001b[0m\n",
            "\u001b[32m[I 2021-08-28 12:02:53,267]\u001b[0m Trial 23 finished with value: 0.7078125 and parameters: {'n_layers': 1, 'n_units_10': 70, 'dropout_10': 0.3047254881908455, 'optimizer': 'RMSprop', 'lr': 0.005168556203229419}. Best is trial 21 with value: 0.72265625.\u001b[0m\n",
            "\u001b[32m[I 2021-08-28 12:02:53,794]\u001b[0m Trial 24 finished with value: 0.5921875 and parameters: {'n_layers': 1, 'n_units_10': 54, 'dropout_10': 0.3037314119240291, 'optimizer': 'RMSprop', 'lr': 0.018182357219068336}. Best is trial 21 with value: 0.72265625.\u001b[0m\n",
            "\u001b[32m[I 2021-08-28 12:02:54,307]\u001b[0m Trial 25 finished with value: 0.68359375 and parameters: {'n_layers': 1, 'n_units_10': 33, 'dropout_10': 0.3655584939531988, 'optimizer': 'RMSprop', 'lr': 0.004178115380292494}. Best is trial 21 with value: 0.72265625.\u001b[0m\n",
            "\u001b[32m[I 2021-08-28 12:02:54,837]\u001b[0m Trial 26 pruned. \u001b[0m\n",
            "\u001b[32m[I 2021-08-28 12:02:55,360]\u001b[0m Trial 27 pruned. \u001b[0m\n",
            "\u001b[32m[I 2021-08-28 12:02:55,890]\u001b[0m Trial 28 finished with value: 0.6296875 and parameters: {'n_layers': 1, 'n_units_10': 28, 'dropout_10': 0.25769896270810994, 'optimizer': 'Adam', 'lr': 0.00418583940601649}. Best is trial 21 with value: 0.72265625.\u001b[0m\n",
            "\u001b[32m[I 2021-08-28 12:02:56,398]\u001b[0m Trial 29 pruned. \u001b[0m\n",
            "\u001b[32m[I 2021-08-28 12:02:56,926]\u001b[0m Trial 30 pruned. \u001b[0m\n",
            "\u001b[32m[I 2021-08-28 12:02:57,472]\u001b[0m Trial 31 finished with value: 0.67109375 and parameters: {'n_layers': 1, 'n_units_10': 72, 'dropout_10': 0.36998774223555864, 'optimizer': 'RMSprop', 'lr': 0.005118661563305405}. Best is trial 21 with value: 0.72265625.\u001b[0m\n",
            "\u001b[32m[I 2021-08-28 12:02:58,010]\u001b[0m Trial 32 finished with value: 0.6140625 and parameters: {'n_layers': 1, 'n_units_10': 56, 'dropout_10': 0.35819132481301896, 'optimizer': 'RMSprop', 'lr': 0.010152402826594518}. Best is trial 21 with value: 0.72265625.\u001b[0m\n",
            "\u001b[32m[I 2021-08-28 12:02:58,587]\u001b[0m Trial 33 finished with value: 0.7 and parameters: {'n_layers': 1, 'n_units_10': 95, 'dropout_10': 0.3868418609826178, 'optimizer': 'RMSprop', 'lr': 0.0013871340688011193}. Best is trial 21 with value: 0.72265625.\u001b[0m\n",
            "\u001b[32m[I 2021-08-28 12:02:59,138]\u001b[0m Trial 34 finished with value: 0.7046875 and parameters: {'n_layers': 1, 'n_units_10': 93, 'dropout_10': 0.404329453537667, 'optimizer': 'RMSprop', 'lr': 0.0013751178584376967}. Best is trial 21 with value: 0.72265625.\u001b[0m\n",
            "\u001b[32m[I 2021-08-28 12:02:59,676]\u001b[0m Trial 35 pruned. \u001b[0m\n",
            "\u001b[32m[I 2021-08-28 12:03:00,247]\u001b[0m Trial 36 finished with value: 0.67421875 and parameters: {'n_layers': 1, 'n_units_10': 94, 'dropout_10': 0.43066162164268224, 'optimizer': 'RMSprop', 'lr': 0.0008085069151870155}. Best is trial 21 with value: 0.72265625.\u001b[0m\n",
            "\u001b[32m[I 2021-08-28 12:03:00,847]\u001b[0m Trial 37 finished with value: 0.62265625 and parameters: {'n_layers': 1, 'n_units_10': 121, 'dropout_10': 0.3952849761483369, 'optimizer': 'Adam', 'lr': 0.00033927740548667887}. Best is trial 21 with value: 0.72265625.\u001b[0m\n",
            "\u001b[32m[I 2021-08-28 12:03:01,418]\u001b[0m Trial 38 finished with value: 0.65 and parameters: {'n_layers': 1, 'n_units_10': 106, 'dropout_10': 0.41664550337519207, 'optimizer': 'RMSprop', 'lr': 0.00013263254796048494}. Best is trial 21 with value: 0.72265625.\u001b[0m\n",
            "\u001b[32m[I 2021-08-28 12:03:02,023]\u001b[0m Trial 39 pruned. \u001b[0m\n",
            "\u001b[32m[I 2021-08-28 12:03:02,573]\u001b[0m Trial 40 pruned. \u001b[0m\n",
            "\u001b[32m[I 2021-08-28 12:03:03,209]\u001b[0m Trial 41 finished with value: 0.66640625 and parameters: {'n_layers': 1, 'n_units_10': 114, 'dropout_10': 0.3557720929932749, 'optimizer': 'RMSprop', 'lr': 0.003286678057499035}. Best is trial 21 with value: 0.72265625.\u001b[0m\n",
            "\u001b[32m[I 2021-08-28 12:03:03,802]\u001b[0m Trial 42 finished with value: 0.71484375 and parameters: {'n_layers': 1, 'n_units_10': 78, 'dropout_10': 0.3836046287118038, 'optimizer': 'RMSprop', 'lr': 0.0006411402992268234}. Best is trial 21 with value: 0.72265625.\u001b[0m\n",
            "\u001b[32m[I 2021-08-28 12:03:04,395]\u001b[0m Trial 43 finished with value: 0.6734375 and parameters: {'n_layers': 1, 'n_units_10': 78, 'dropout_10': 0.3867044846597444, 'optimizer': 'RMSprop', 'lr': 0.000571614788953998}. Best is trial 21 with value: 0.72265625.\u001b[0m\n",
            "\u001b[32m[I 2021-08-28 12:03:04,975]\u001b[0m Trial 44 finished with value: 0.659375 and parameters: {'n_layers': 1, 'n_units_10': 89, 'dropout_10': 0.33442762663310854, 'optimizer': 'RMSprop', 'lr': 0.00018617598555597048}. Best is trial 21 with value: 0.72265625.\u001b[0m\n",
            "\u001b[32m[I 2021-08-28 12:03:05,583]\u001b[0m Trial 45 pruned. \u001b[0m\n",
            "\u001b[32m[I 2021-08-28 12:03:06,133]\u001b[0m Trial 46 finished with value: 0.6875 and parameters: {'n_layers': 1, 'n_units_10': 62, 'dropout_10': 0.4133807355718934, 'optimizer': 'RMSprop', 'lr': 0.0008666903093309035}. Best is trial 21 with value: 0.72265625.\u001b[0m\n",
            "\u001b[32m[I 2021-08-28 12:03:06,699]\u001b[0m Trial 47 finished with value: 0.67421875 and parameters: {'n_layers': 1, 'n_units_10': 98, 'dropout_10': 0.3201001364072989, 'optimizer': 'RMSprop', 'lr': 0.00041904757137112573}. Best is trial 21 with value: 0.72265625.\u001b[0m\n",
            "\u001b[32m[I 2021-08-28 12:03:07,256]\u001b[0m Trial 48 finished with value: 0.70078125 and parameters: {'n_layers': 1, 'n_units_10': 84, 'dropout_10': 0.3813909776232329, 'optimizer': 'RMSprop', 'lr': 0.001749086491660499}. Best is trial 21 with value: 0.72265625.\u001b[0m\n",
            "\u001b[32m[I 2021-08-28 12:03:07,823]\u001b[0m Trial 49 finished with value: 0.69375 and parameters: {'n_layers': 1, 'n_units_10': 82, 'dropout_10': 0.278993586658387, 'optimizer': 'RMSprop', 'lr': 0.007498654566256459}. Best is trial 21 with value: 0.72265625.\u001b[0m\n",
            "\u001b[32m[I 2021-08-28 12:03:08,445]\u001b[0m Trial 50 pruned. \u001b[0m\n",
            "\u001b[32m[I 2021-08-28 12:03:08,987]\u001b[0m Trial 51 finished with value: 0.628125 and parameters: {'n_layers': 1, 'n_units_10': 66, 'dropout_10': 0.381115065107978, 'optimizer': 'RMSprop', 'lr': 0.000697684124245818}. Best is trial 21 with value: 0.72265625.\u001b[0m\n",
            "\u001b[32m[I 2021-08-28 12:03:09,573]\u001b[0m Trial 52 finished with value: 0.721875 and parameters: {'n_layers': 1, 'n_units_10': 86, 'dropout_10': 0.39272441787894863, 'optimizer': 'RMSprop', 'lr': 0.00159366772244655}. Best is trial 21 with value: 0.72265625.\u001b[0m\n",
            "\u001b[32m[I 2021-08-28 12:03:10,133]\u001b[0m Trial 53 finished with value: 0.65625 and parameters: {'n_layers': 1, 'n_units_10': 85, 'dropout_10': 0.23867528320243253, 'optimizer': 'RMSprop', 'lr': 0.00024895286232195916}. Best is trial 21 with value: 0.72265625.\u001b[0m\n",
            "\u001b[32m[I 2021-08-28 12:03:10,685]\u001b[0m Trial 54 pruned. \u001b[0m\n",
            "\u001b[32m[I 2021-08-28 12:03:11,269]\u001b[0m Trial 55 finished with value: 0.72109375 and parameters: {'n_layers': 1, 'n_units_10': 89, 'dropout_10': 0.20262516048363707, 'optimizer': 'RMSprop', 'lr': 0.0016305606683723153}. Best is trial 21 with value: 0.72265625.\u001b[0m\n",
            "\u001b[32m[I 2021-08-28 12:03:11,831]\u001b[0m Trial 56 finished with value: 0.68359375 and parameters: {'n_layers': 1, 'n_units_10': 89, 'dropout_10': 0.21233858163068745, 'optimizer': 'RMSprop', 'lr': 0.0028028303998204524}. Best is trial 21 with value: 0.72265625.\u001b[0m\n",
            "\u001b[32m[I 2021-08-28 12:03:12,407]\u001b[0m Trial 57 finished with value: 0.65078125 and parameters: {'n_layers': 1, 'n_units_10': 79, 'dropout_10': 0.23072899874614122, 'optimizer': 'RMSprop', 'lr': 0.024769776535451607}. Best is trial 21 with value: 0.72265625.\u001b[0m\n",
            "\u001b[32m[I 2021-08-28 12:03:12,997]\u001b[0m Trial 58 pruned. \u001b[0m\n",
            "\u001b[32m[I 2021-08-28 12:03:13,574]\u001b[0m Trial 59 finished with value: 0.6421875 and parameters: {'n_layers': 1, 'n_units_10': 68, 'dropout_10': 0.2044786098526614, 'optimizer': 'RMSprop', 'lr': 0.001035307475762629}. Best is trial 21 with value: 0.72265625.\u001b[0m\n",
            "\u001b[32m[I 2021-08-28 12:03:14,192]\u001b[0m Trial 60 finished with value: 0.6484375 and parameters: {'n_layers': 2, 'n_units_10': 114, 'dropout_10': 0.25223620098969185, 'n_units_11': 110, 'dropout_11': 0.4138213163552522, 'optimizer': 'RMSprop', 'lr': 0.007979178716363606}. Best is trial 21 with value: 0.72265625.\u001b[0m\n",
            "\u001b[32m[I 2021-08-28 12:03:14,754]\u001b[0m Trial 61 pruned. \u001b[0m\n",
            "\u001b[32m[I 2021-08-28 12:03:15,322]\u001b[0m Trial 62 finished with value: 0.6890625 and parameters: {'n_layers': 1, 'n_units_10': 84, 'dropout_10': 0.3992825236955664, 'optimizer': 'RMSprop', 'lr': 0.0004923617270983942}. Best is trial 21 with value: 0.72265625.\u001b[0m\n",
            "\u001b[32m[I 2021-08-28 12:03:15,884]\u001b[0m Trial 63 finished with value: 0.69453125 and parameters: {'n_layers': 1, 'n_units_10': 58, 'dropout_10': 0.4051952372030766, 'optimizer': 'RMSprop', 'lr': 0.0017746186276394631}. Best is trial 21 with value: 0.72265625.\u001b[0m\n",
            "\u001b[32m[I 2021-08-28 12:03:16,470]\u001b[0m Trial 64 finished with value: 0.6578125 and parameters: {'n_layers': 1, 'n_units_10': 81, 'dropout_10': 0.42079071032910864, 'optimizer': 'RMSprop', 'lr': 0.0037713333701837304}. Best is trial 21 with value: 0.72265625.\u001b[0m\n",
            "\u001b[32m[I 2021-08-28 12:03:17,040]\u001b[0m Trial 65 finished with value: 0.6953125 and parameters: {'n_layers': 1, 'n_units_10': 91, 'dropout_10': 0.3878296988349375, 'optimizer': 'RMSprop', 'lr': 0.006138032168949942}. Best is trial 21 with value: 0.72265625.\u001b[0m\n",
            "\u001b[32m[I 2021-08-28 12:03:17,618]\u001b[0m Trial 66 pruned. \u001b[0m\n",
            "\u001b[32m[I 2021-08-28 12:03:18,210]\u001b[0m Trial 67 finished with value: 0.75546875 and parameters: {'n_layers': 1, 'n_units_10': 86, 'dropout_10': 0.2954580843210483, 'optimizer': 'RMSprop', 'lr': 0.002563009476418821}. Best is trial 67 with value: 0.75546875.\u001b[0m\n",
            "\u001b[32m[I 2021-08-28 12:03:18,810]\u001b[0m Trial 68 finished with value: 0.715625 and parameters: {'n_layers': 1, 'n_units_10': 69, 'dropout_10': 0.30396457509899877, 'optimizer': 'Adam', 'lr': 0.005174050658876123}. Best is trial 67 with value: 0.75546875.\u001b[0m\n",
            "\u001b[32m[I 2021-08-28 12:03:19,372]\u001b[0m Trial 69 finished with value: 0.70234375 and parameters: {'n_layers': 1, 'n_units_10': 68, 'dropout_10': 0.3026115910553398, 'optimizer': 'Adam', 'lr': 0.0028784374808939212}. Best is trial 67 with value: 0.75546875.\u001b[0m\n",
            "\u001b[32m[I 2021-08-28 12:03:19,947]\u001b[0m Trial 70 finished with value: 0.74140625 and parameters: {'n_layers': 1, 'n_units_10': 63, 'dropout_10': 0.2934427750552807, 'optimizer': 'Adam', 'lr': 0.015597361684283467}. Best is trial 67 with value: 0.75546875.\u001b[0m\n",
            "\u001b[32m[I 2021-08-28 12:03:20,497]\u001b[0m Trial 71 finished with value: 0.73984375 and parameters: {'n_layers': 1, 'n_units_10': 52, 'dropout_10': 0.2929400217127039, 'optimizer': 'Adam', 'lr': 0.01298975806780324}. Best is trial 67 with value: 0.75546875.\u001b[0m\n",
            "\u001b[32m[I 2021-08-28 12:03:21,055]\u001b[0m Trial 72 finished with value: 0.72890625 and parameters: {'n_layers': 1, 'n_units_10': 65, 'dropout_10': 0.2858008709956488, 'optimizer': 'Adam', 'lr': 0.018416978746543192}. Best is trial 67 with value: 0.75546875.\u001b[0m\n",
            "\u001b[32m[I 2021-08-28 12:03:21,618]\u001b[0m Trial 73 pruned. \u001b[0m\n",
            "\u001b[32m[I 2021-08-28 12:03:22,164]\u001b[0m Trial 74 finished with value: 0.75078125 and parameters: {'n_layers': 1, 'n_units_10': 62, 'dropout_10': 0.28610213585320315, 'optimizer': 'Adam', 'lr': 0.014313832505791114}. Best is trial 67 with value: 0.75546875.\u001b[0m\n",
            "\u001b[32m[I 2021-08-28 12:03:22,746]\u001b[0m Trial 75 finished with value: 0.70703125 and parameters: {'n_layers': 1, 'n_units_10': 63, 'dropout_10': 0.2863943706036251, 'optimizer': 'Adam', 'lr': 0.015855301388495384}. Best is trial 67 with value: 0.75546875.\u001b[0m\n",
            "\u001b[32m[I 2021-08-28 12:03:23,315]\u001b[0m Trial 76 finished with value: 0.70859375 and parameters: {'n_layers': 1, 'n_units_10': 48, 'dropout_10': 0.26610481189584073, 'optimizer': 'Adam', 'lr': 0.027511449053019183}. Best is trial 67 with value: 0.75546875.\u001b[0m\n",
            "\u001b[32m[I 2021-08-28 12:03:23,877]\u001b[0m Trial 77 pruned. \u001b[0m\n",
            "\u001b[32m[I 2021-08-28 12:03:24,484]\u001b[0m Trial 78 finished with value: 0.7515625 and parameters: {'n_layers': 1, 'n_units_10': 57, 'dropout_10': 0.25251112151191546, 'optimizer': 'Adam', 'lr': 0.020485122106492303}. Best is trial 67 with value: 0.75546875.\u001b[0m\n",
            "\u001b[32m[I 2021-08-28 12:03:25,064]\u001b[0m Trial 79 pruned. \u001b[0m\n",
            "\u001b[32m[I 2021-08-28 12:03:25,619]\u001b[0m Trial 80 finished with value: 0.76796875 and parameters: {'n_layers': 1, 'n_units_10': 59, 'dropout_10': 0.3117972488892801, 'optimizer': 'Adam', 'lr': 0.013241372727413655}. Best is trial 80 with value: 0.76796875.\u001b[0m\n",
            "\u001b[32m[I 2021-08-28 12:03:26,172]\u001b[0m Trial 81 finished with value: 0.7453125 and parameters: {'n_layers': 1, 'n_units_10': 58, 'dropout_10': 0.297749623416197, 'optimizer': 'Adam', 'lr': 0.013898284672256707}. Best is trial 80 with value: 0.76796875.\u001b[0m\n",
            "\u001b[32m[I 2021-08-28 12:03:26,735]\u001b[0m Trial 82 finished with value: 0.72109375 and parameters: {'n_layers': 1, 'n_units_10': 60, 'dropout_10': 0.29329957564267256, 'optimizer': 'Adam', 'lr': 0.013670627294159653}. Best is trial 80 with value: 0.76796875.\u001b[0m\n",
            "\u001b[32m[I 2021-08-28 12:03:27,267]\u001b[0m Trial 83 finished with value: 0.728125 and parameters: {'n_layers': 1, 'n_units_10': 56, 'dropout_10': 0.32295534043665286, 'optimizer': 'Adam', 'lr': 0.020131632920614817}. Best is trial 80 with value: 0.76796875.\u001b[0m\n",
            "\u001b[32m[I 2021-08-28 12:03:27,812]\u001b[0m Trial 84 finished with value: 0.709375 and parameters: {'n_layers': 1, 'n_units_10': 38, 'dropout_10': 0.3174149020891274, 'optimizer': 'Adam', 'lr': 0.020699751078379097}. Best is trial 80 with value: 0.76796875.\u001b[0m\n",
            "\u001b[32m[I 2021-08-28 12:03:28,392]\u001b[0m Trial 85 pruned. \u001b[0m\n",
            "\u001b[32m[I 2021-08-28 12:03:28,960]\u001b[0m Trial 86 pruned. \u001b[0m\n",
            "\u001b[32m[I 2021-08-28 12:03:29,533]\u001b[0m Trial 87 pruned. \u001b[0m\n",
            "\u001b[32m[I 2021-08-28 12:03:30,095]\u001b[0m Trial 88 finished with value: 0.7109375 and parameters: {'n_layers': 1, 'n_units_10': 51, 'dropout_10': 0.29445001084368577, 'optimizer': 'Adam', 'lr': 0.01029907463951279}. Best is trial 80 with value: 0.76796875.\u001b[0m\n",
            "\u001b[32m[I 2021-08-28 12:03:30,656]\u001b[0m Trial 89 finished with value: 0.67421875 and parameters: {'n_layers': 1, 'n_units_10': 41, 'dropout_10': 0.28405660135908084, 'optimizer': 'Adam', 'lr': 0.023304774073515753}. Best is trial 80 with value: 0.76796875.\u001b[0m\n",
            "\u001b[32m[I 2021-08-28 12:03:31,195]\u001b[0m Trial 90 finished with value: 0.71015625 and parameters: {'n_layers': 1, 'n_units_10': 47, 'dropout_10': 0.29835364553354166, 'optimizer': 'Adam', 'lr': 0.016500753151050394}. Best is trial 80 with value: 0.76796875.\u001b[0m\n",
            "\u001b[32m[I 2021-08-28 12:03:31,756]\u001b[0m Trial 91 finished with value: 0.68203125 and parameters: {'n_layers': 1, 'n_units_10': 54, 'dropout_10': 0.32317456287620766, 'optimizer': 'Adam', 'lr': 0.012691472140802308}. Best is trial 80 with value: 0.76796875.\u001b[0m\n",
            "\u001b[32m[I 2021-08-28 12:03:32,322]\u001b[0m Trial 92 finished with value: 0.7265625 and parameters: {'n_layers': 1, 'n_units_10': 64, 'dropout_10': 0.27051034935914126, 'optimizer': 'Adam', 'lr': 0.008658155095985803}. Best is trial 80 with value: 0.76796875.\u001b[0m\n",
            "\u001b[32m[I 2021-08-28 12:03:32,867]\u001b[0m Trial 93 finished with value: 0.746875 and parameters: {'n_layers': 1, 'n_units_10': 64, 'dropout_10': 0.2701395597160469, 'optimizer': 'Adam', 'lr': 0.008951169337195815}. Best is trial 80 with value: 0.76796875.\u001b[0m\n",
            "\u001b[32m[I 2021-08-28 12:03:33,415]\u001b[0m Trial 94 finished with value: 0.70546875 and parameters: {'n_layers': 1, 'n_units_10': 59, 'dropout_10': 0.3108881303435835, 'optimizer': 'Adam', 'lr': 0.01793653550452738}. Best is trial 80 with value: 0.76796875.\u001b[0m\n",
            "\u001b[32m[I 2021-08-28 12:03:33,989]\u001b[0m Trial 95 finished with value: 0.71640625 and parameters: {'n_layers': 1, 'n_units_10': 62, 'dropout_10': 0.3121391898964213, 'optimizer': 'Adam', 'lr': 0.030801821101732577}. Best is trial 80 with value: 0.76796875.\u001b[0m\n",
            "\u001b[32m[I 2021-08-28 12:03:34,581]\u001b[0m Trial 96 finished with value: 0.7375 and parameters: {'n_layers': 1, 'n_units_10': 56, 'dropout_10': 0.24250558040730807, 'optimizer': 'Adam', 'lr': 0.015141407072374406}. Best is trial 80 with value: 0.76796875.\u001b[0m\n",
            "\u001b[32m[I 2021-08-28 12:03:35,147]\u001b[0m Trial 97 pruned. \u001b[0m\n",
            "\u001b[32m[I 2021-08-28 12:03:35,729]\u001b[0m Trial 98 finished with value: 0.7125 and parameters: {'n_layers': 1, 'n_units_10': 44, 'dropout_10': 0.2562241173918037, 'optimizer': 'Adam', 'lr': 0.011029409429698215}. Best is trial 80 with value: 0.76796875.\u001b[0m\n",
            "\u001b[32m[I 2021-08-28 12:03:36,279]\u001b[0m Trial 99 pruned. \u001b[0m\n"
          ],
          "name": "stderr"
        },
        {
          "output_type": "stream",
          "text": [
            "Number of trials: 100\n",
            "Number of completed trials: 25\n",
            "Number of pruned trials: 75\n",
            "Best Trial Value: 0.76796875\n",
            "n_layers: 1\n",
            "n_units_10: 59\n",
            "dropout_10: 0.3117972488892801\n",
            "optimizer: Adam\n",
            "lr: 0.013241372727413655\n"
          ],
          "name": "stdout"
        }
      ]
    },
    {
      "cell_type": "code",
      "metadata": {
        "id": "6c8ft48NozlC"
      },
      "source": [
        ""
      ],
      "execution_count": null,
      "outputs": []
    }
  ]
}